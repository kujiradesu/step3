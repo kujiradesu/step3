{
 "cells": [
  {
   "cell_type": "code",
   "execution_count": 14,
   "metadata": {},
   "outputs": [],
   "source": [
    "#ライブラリのインポート\n",
    "from bs4 import BeautifulSoup\n",
    "import re #不要文字削除\n",
    "import requests\n",
    "from time import sleep\n",
    "import time\n",
    "from tqdm import tqdm   #for文の進捗確認\n",
    "import pandas as pd"
   ]
  },
  {
   "cell_type": "code",
   "execution_count": 26,
   "metadata": {},
   "outputs": [],
   "source": [
    "url = \"https://suumo.jp/jj/chintai/ichiran/FR301FC001/?ar=030&bs=040&pc=30&smk=&po1=25&po2=99&shkr1=03&shkr2=03&shkr3=03&shkr4=03&sc=13101&sc=13102&sc=13103&sc=13104&sc=13105&sc=13113&sc=13106&sc=13107&sc=13108&sc=13118&sc=13121&sc=13122&sc=13123&sc=13109&sc=13110&sc=13111&sc=13112&sc=13114&sc=13115&sc=13120&sc=13116&sc=13117&sc=13119&ta=13&cb=0.0&ct=20.0&md=05&md=06&md=07&md=08&md=09&et=10&mb=0&mt=9999999&cn=15&tc=0400301&fw2=\"\n",
    "res = requests.get(url)\n",
    "res.encoding = 'utf-8'\n",
    "soup = BeautifulSoup(res.text, 'html.parser')\n",
    "maxpage = int(soup.select(\"ol.pagination-parts a\")[-1].text)"
   ]
  },
  {
   "cell_type": "code",
   "execution_count": 89,
   "metadata": {},
   "outputs": [],
   "source": [
    "# 正常にHTML情報が取得できれば以下のコードを実行\n",
    "if res.status_code == 200:\n",
    "\n",
    "    names = []\n",
    "    addresses = []\n",
    "    access = []\n",
    "    ages = []\n",
    "    maxfloors = []\n",
    "\n",
    "    floors = []\n",
    "    rents = []\n",
    "    layouts = []\n",
    "    sizes = []\n",
    "\n",
    "\n",
    "    for k in range(maxpage):\n",
    "        res = requests.get(url+\"&page=\"+str(k))\n",
    "        res.encoding = \"utf-8\"\n",
    "        soup = BeautifulSoup(res.text, \"html.parser\")\n",
    "        suumo_cassetteitem_from_html = soup.select('div.cassetteitem')\n",
    "        time.sleep(1)\n",
    "\n",
    "        for sc in suumo_cassetteitem_from_html:\n",
    "            suumo_name = sc.select('div.cassetteitem_content-title')[0].text\n",
    "            suumo_address = sc.select(\"li.cassetteitem_detail-col1\")[0].text\n",
    "            suumo_access = sc.select('li.cassetteitem_detail-col2')[0].text.replace('\\n',',').strip(',')\n",
    "            suumo_age, suumo_maxfloor = sc.select(\"li.cassetteitem_detail-col3\")[0].text.split()\n",
    "\n",
    "            tbody_items = sc.select('tbody')\n",
    "\n",
    "            for ti in tbody_items:\n",
    "                suumo_floor = ti.select('tr.js-cassette_link')[0].text.split()[0]\n",
    "                suumo_rent = ti.select('span.cassetteitem_other-emphasis, span.ui-text--bold')[0].text\n",
    "                suumo_layout = ti.select('span.cassetteitem_madori')[0].text\n",
    "                suumo_size = ti.select('span.cassetteitem_menseki')[0].text\n",
    "\n",
    "                names.append(suumo_name)\n",
    "                addresses.append(suumo_address)\n",
    "                access.append(suumo_access)\n",
    "                ages.append(suumo_age)\n",
    "                maxfloors.append(suumo_maxfloor)\n",
    "\n",
    "                floors.append(suumo_floor)\n",
    "                rents.append(suumo_rent)\n",
    "                layouts.append(suumo_layout)\n",
    "                sizes.append(suumo_size)\n",
    "\n",
    "        data = {\n",
    "        'Name': names,\n",
    "        'Address': addresses,\n",
    "        'Access': access,\n",
    "        'Age': ages,\n",
    "        'Max_Floor': maxfloors,\n",
    "        'Floor': floors,\n",
    "        'Rent': rents,\n",
    "        'Layout': layouts,\n",
    "        'Size': sizes\n",
    "    }\n"
   ]
  },
  {
   "cell_type": "code",
   "execution_count": 90,
   "metadata": {},
   "outputs": [],
   "source": [
    " df = pd.DataFrame(data)"
   ]
  },
  {
   "cell_type": "code",
   "execution_count": 97,
   "metadata": {},
   "outputs": [
    {
     "data": {
      "text/plain": [
       "Name         object\n",
       "Address      object\n",
       "Access       object\n",
       "Age          object\n",
       "Max_Floor    object\n",
       "Floor        object\n",
       "Rent         object\n",
       "Layout       object\n",
       "Size         object\n",
       "dtype: object"
      ]
     },
     "execution_count": 97,
     "metadata": {},
     "output_type": "execute_result"
    }
   ],
   "source": [
    "#データ型の確認\n",
    "df.dtypes"
   ]
  },
  {
   "cell_type": "code",
   "execution_count": 104,
   "metadata": {},
   "outputs": [
    {
     "data": {
      "text/html": [
       "<div>\n",
       "<style scoped>\n",
       "    .dataframe tbody tr th:only-of-type {\n",
       "        vertical-align: middle;\n",
       "    }\n",
       "\n",
       "    .dataframe tbody tr th {\n",
       "        vertical-align: top;\n",
       "    }\n",
       "\n",
       "    .dataframe thead th {\n",
       "        text-align: right;\n",
       "    }\n",
       "</style>\n",
       "<table border=\"1\" class=\"dataframe\">\n",
       "  <thead>\n",
       "    <tr style=\"text-align: right;\">\n",
       "      <th></th>\n",
       "      <th>Name</th>\n",
       "      <th>Address</th>\n",
       "      <th>Access</th>\n",
       "      <th>Age</th>\n",
       "      <th>Max_Floor</th>\n",
       "      <th>Floor</th>\n",
       "      <th>Rent</th>\n",
       "      <th>Layout</th>\n",
       "      <th>Size</th>\n",
       "    </tr>\n",
       "  </thead>\n",
       "  <tbody>\n",
       "    <tr>\n",
       "      <th>0</th>\n",
       "      <td>アイルプレミアム池袋ノルド</td>\n",
       "      <td>東京都板橋区板橋４</td>\n",
       "      <td>都営三田線/新板橋駅 歩3分,ＪＲ埼京線/板橋駅 歩8分,東武東上線/下板橋駅 歩8分</td>\n",
       "      <td>築2年</td>\n",
       "      <td>12階建</td>\n",
       "      <td>11階</td>\n",
       "      <td>12.7万円</td>\n",
       "      <td>2K</td>\n",
       "      <td>33.13m2</td>\n",
       "    </tr>\n",
       "    <tr>\n",
       "      <th>1</th>\n",
       "      <td>アイルプレミアム池袋ノルド</td>\n",
       "      <td>東京都板橋区板橋４</td>\n",
       "      <td>都営三田線/新板橋駅 歩3分,ＪＲ埼京線/板橋駅 歩8分,東武東上線/下板橋駅 歩8分</td>\n",
       "      <td>築2年</td>\n",
       "      <td>12階建</td>\n",
       "      <td>11階</td>\n",
       "      <td>12.8万円</td>\n",
       "      <td>2K</td>\n",
       "      <td>33.13m2</td>\n",
       "    </tr>\n",
       "    <tr>\n",
       "      <th>3</th>\n",
       "      <td>パークアクシス押上レジデンス</td>\n",
       "      <td>東京都墨田区向島３</td>\n",
       "      <td>東武伊勢崎線/とうきょうスカイツリー駅 歩6分,都営浅草線/本所吾妻橋駅 歩9分,京成押上線...</td>\n",
       "      <td>築6年</td>\n",
       "      <td>7階建</td>\n",
       "      <td>7階</td>\n",
       "      <td>19.5万円</td>\n",
       "      <td>2LDK</td>\n",
       "      <td>50.34m2</td>\n",
       "    </tr>\n",
       "    <tr>\n",
       "      <th>4</th>\n",
       "      <td>東京メトロ半蔵門線 錦糸町駅 15階建 築2年</td>\n",
       "      <td>東京都墨田区江東橋２</td>\n",
       "      <td>東京メトロ半蔵門線/錦糸町駅 歩7分,都営新宿線/住吉駅 歩8分,ＪＲ総武線/錦糸町駅 歩7分</td>\n",
       "      <td>築2年</td>\n",
       "      <td>15階建</td>\n",
       "      <td>14階</td>\n",
       "      <td>10.6万円</td>\n",
       "      <td>2K</td>\n",
       "      <td>25.6m2</td>\n",
       "    </tr>\n",
       "    <tr>\n",
       "      <th>5</th>\n",
       "      <td>フェリーチェ錦糸町</td>\n",
       "      <td>東京都墨田区江東橋２</td>\n",
       "      <td>ＪＲ総武線/錦糸町駅 歩7分,東京メトロ半蔵門線/住吉駅 歩8分,都営新宿線/菊川駅 歩13分</td>\n",
       "      <td>築2年</td>\n",
       "      <td>15階建</td>\n",
       "      <td>6階</td>\n",
       "      <td>9.7万円</td>\n",
       "      <td>2K</td>\n",
       "      <td>25.6m2</td>\n",
       "    </tr>\n",
       "  </tbody>\n",
       "</table>\n",
       "</div>"
      ],
      "text/plain": [
       "                      Name     Address  \\\n",
       "0            アイルプレミアム池袋ノルド   東京都板橋区板橋４   \n",
       "1            アイルプレミアム池袋ノルド   東京都板橋区板橋４   \n",
       "3           パークアクシス押上レジデンス   東京都墨田区向島３   \n",
       "4  東京メトロ半蔵門線 錦糸町駅 15階建 築2年  東京都墨田区江東橋２   \n",
       "5                フェリーチェ錦糸町  東京都墨田区江東橋２   \n",
       "\n",
       "                                              Access  Age Max_Floor Floor  \\\n",
       "0        都営三田線/新板橋駅 歩3分,ＪＲ埼京線/板橋駅 歩8分,東武東上線/下板橋駅 歩8分  築2年      12階建   11階   \n",
       "1        都営三田線/新板橋駅 歩3分,ＪＲ埼京線/板橋駅 歩8分,東武東上線/下板橋駅 歩8分  築2年      12階建   11階   \n",
       "3  東武伊勢崎線/とうきょうスカイツリー駅 歩6分,都営浅草線/本所吾妻橋駅 歩9分,京成押上線...  築6年       7階建    7階   \n",
       "4    東京メトロ半蔵門線/錦糸町駅 歩7分,都営新宿線/住吉駅 歩8分,ＪＲ総武線/錦糸町駅 歩7分  築2年      15階建   14階   \n",
       "5    ＪＲ総武線/錦糸町駅 歩7分,東京メトロ半蔵門線/住吉駅 歩8分,都営新宿線/菊川駅 歩13分  築2年      15階建    6階   \n",
       "\n",
       "     Rent Layout     Size  \n",
       "0  12.7万円     2K  33.13m2  \n",
       "1  12.8万円     2K  33.13m2  \n",
       "3  19.5万円   2LDK  50.34m2  \n",
       "4  10.6万円     2K   25.6m2  \n",
       "5   9.7万円     2K   25.6m2  "
      ]
     },
     "execution_count": 104,
     "metadata": {},
     "output_type": "execute_result"
    }
   ],
   "source": [
    "df.drop_duplicates(subset=['Address', 'Floor', 'Rent', 'Layout', 'Size'], inplace=True)\n",
    "df.head(\n",
    ")"
   ]
  },
  {
   "cell_type": "code",
   "execution_count": 106,
   "metadata": {},
   "outputs": [],
   "source": [
    "#google spread sheets 出力\n",
    "#ライブラリのインポート\n",
    "import gspread\n",
    "from oauth2client.service_account import ServiceAccountCredentials\n",
    "\n",
    "#環境変数関連\n",
    "from dotenv import load_dotenv\n",
    "load_dotenv()\n",
    "import os"
   ]
  },
  {
   "cell_type": "code",
   "execution_count": 107,
   "metadata": {},
   "outputs": [],
   "source": [
    "#スコープとjsonファイルを使って認証情報を取得\n",
    "SCOPES = ['https://www.googleapis.com/auth/spreadsheets', 'https://www.googleapis.com/auth/drive']\n",
    "SERVICE_ACCOUNT_FILE = '/Users/maedaryo/step3/tech0-step3-407115-94fd3b930a55.json'\n",
    "credentials = ServiceAccountCredentials.from_json_keyfile_name(SERVICE_ACCOUNT_FILE, SCOPES)"
   ]
  },
  {
   "cell_type": "code",
   "execution_count": 110,
   "metadata": {},
   "outputs": [],
   "source": [
    "#認証情報をauthorize関数に渡してスプレッドシートの操作権を取得\n",
    "gs = gspread.authorize(credentials)\n",
    "\n",
    "#シート情報を取得して変数に代入\n",
    "SPREADSHEET_KEY = '1-9_e88o6GUDVg-2FO8o-d0fS8UKRji3MAQsANC3zxIw'\n",
    "workbook = gs.open_by_key(SPREADSHEET_KEY)\n",
    "worksheet = workbook.worksheet(\"DB\")"
   ]
  },
  {
   "cell_type": "code",
   "execution_count": 111,
   "metadata": {},
   "outputs": [
    {
     "name": "stderr",
     "output_type": "stream",
     "text": [
      "/var/folders/kg/8x8shztx3cxdm81q2gqnhjf40000gn/T/ipykernel_51495/2538457237.py:5: DeprecationWarning: [Deprecated][in version 6.0.0]: Method signature's arguments 'range_name' and 'values' will change their order. We recommend using named arguments for minimal impact. In addition, the argument 'values' will be mandatory of type: 'List[List]'. (ex) Worksheet.update(values = [[]], range_name=) \n",
      "  worksheet.update(\"A1\", values)\n"
     ]
    },
    {
     "data": {
      "text/plain": [
       "{'spreadsheetId': '1-9_e88o6GUDVg-2FO8o-d0fS8UKRji3MAQsANC3zxIw',\n",
       " 'updatedRange': 'DB!A1:I2261',\n",
       " 'updatedRows': 2261,\n",
       " 'updatedColumns': 9,\n",
       " 'updatedCells': 20349}"
      ]
     },
     "execution_count": 111,
     "metadata": {},
     "output_type": "execute_result"
    }
   ],
   "source": [
    "#特定の列（'Address', 'Floor', 'Rent', 'Layout', 'Size'）に基づいて重複する行を削除\n",
    "df.drop_duplicates(subset=['Address', 'Floor', 'Rent', 'Layout', 'Size'], inplace=True)\n",
    "\n",
    "values = [df.columns.values.tolist()] + df.values.tolist()\n",
    "\n",
    "worksheet.update(\"A1\", values)"
   ]
  }
 ],
 "metadata": {
  "kernelspec": {
   "display_name": "Python 3",
   "language": "python",
   "name": "python3"
  },
  "language_info": {
   "codemirror_mode": {
    "name": "ipython",
    "version": 3
   },
   "file_extension": ".py",
   "mimetype": "text/x-python",
   "name": "python",
   "nbconvert_exporter": "python",
   "pygments_lexer": "ipython3",
   "version": "3.9.6"
  }
 },
 "nbformat": 4,
 "nbformat_minor": 2
}
