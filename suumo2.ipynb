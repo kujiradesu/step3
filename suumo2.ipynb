{
 "cells": [
  {
   "cell_type": "code",
   "execution_count": 1,
   "metadata": {},
   "outputs": [],
   "source": [
    "#ライブラリのインポート\n",
    "from bs4 import BeautifulSoup\n",
    "import re #不要文字削除\n",
    "import requests\n",
    "from time import sleep\n",
    "import time\n",
    "from tqdm import tqdm   #for文の進捗確認\n",
    "import pandas as pd"
   ]
  },
  {
   "cell_type": "code",
   "execution_count": 2,
   "metadata": {},
   "outputs": [],
   "source": [
    "url = \"https://suumo.jp/jj/chintai/ichiran/FR301FC001/?ar=030&bs=040&pc=30&smk=&po1=25&po2=99&shkr1=03&shkr2=03&shkr3=03&shkr4=03&sc=13101&sc=13102&sc=13103&sc=13104&sc=13105&sc=13113&sc=13106&sc=13107&sc=13108&sc=13118&sc=13121&sc=13122&sc=13123&sc=13109&sc=13110&sc=13111&sc=13112&sc=13114&sc=13115&sc=13120&sc=13116&sc=13117&sc=13119&ta=13&cb=0.0&ct=20.0&md=05&md=06&md=07&md=08&md=09&et=10&mb=0&mt=9999999&cn=15&tc=0400301&fw2=\"\n",
    "res = requests.get(url)\n",
    "res.encoding = 'utf-8'\n",
    "soup = BeautifulSoup(res.text, 'html.parser')\n",
    "maxpage = int(soup.select(\"ol.pagination-parts a\")[-1].text)"
   ]
  },
  {
   "cell_type": "code",
   "execution_count": 3,
   "metadata": {},
   "outputs": [],
   "source": [
    "# 正常にHTML情報が取得できれば以下のコードを実行\n",
    "if res.status_code == 200:\n",
    "\n",
    "    names = []\n",
    "    addresses = []\n",
    "    access = []\n",
    "    ages = []\n",
    "    maxfloors = []\n",
    "\n",
    "    floors = []\n",
    "    rents = []\n",
    "    layouts = []\n",
    "    sizes = []\n",
    "\n",
    "\n",
    "    for k in range(maxpage):\n",
    "        res = requests.get(url+\"&page=\"+str(k))\n",
    "        res.encoding = \"utf-8\"\n",
    "        soup = BeautifulSoup(res.text, \"html.parser\")\n",
    "        suumo_cassetteitem_from_html = soup.select('div.cassetteitem')\n",
    "        time.sleep(1)\n",
    "\n",
    "        for sc in suumo_cassetteitem_from_html:\n",
    "            suumo_name = sc.select('div.cassetteitem_content-title')[0].text\n",
    "            suumo_address = sc.select(\"li.cassetteitem_detail-col1\")[0].text\n",
    "            suumo_access = sc.select('li.cassetteitem_detail-col2')[0].text.replace('\\n',',').strip(',')\n",
    "            suumo_age, suumo_maxfloor = sc.select(\"li.cassetteitem_detail-col3\")[0].text.split()\n",
    "\n",
    "            tbody_items = sc.select('tbody')\n",
    "\n",
    "            for ti in tbody_items:\n",
    "                suumo_floor = ti.select('tr.js-cassette_link')[0].text.split()[0]\n",
    "                suumo_rent = ti.select('span.cassetteitem_other-emphasis, span.ui-text--bold')[0].text\n",
    "                suumo_layout = ti.select('span.cassetteitem_madori')[0].text\n",
    "                suumo_size = ti.select('span.cassetteitem_menseki')[0].text\n",
    "\n",
    "                names.append(suumo_name)\n",
    "                addresses.append(suumo_address)\n",
    "                access.append(suumo_access)\n",
    "                ages.append(suumo_age)\n",
    "                maxfloors.append(suumo_maxfloor)\n",
    "\n",
    "                floors.append(suumo_floor)\n",
    "                rents.append(suumo_rent)\n",
    "                layouts.append(suumo_layout)\n",
    "                sizes.append(suumo_size)\n",
    "\n",
    "        data = {\n",
    "        'Name': names,\n",
    "        'Address': addresses,\n",
    "        'Access': access,\n",
    "        'Age': ages,\n",
    "        'Max_Floor': maxfloors,\n",
    "        'Floor': floors,\n",
    "        'Rent': rents,\n",
    "        'Layout': layouts,\n",
    "        'Size': sizes\n",
    "    }\n"
   ]
  },
  {
   "cell_type": "code",
   "execution_count": 4,
   "metadata": {},
   "outputs": [],
   "source": [
    " df = pd.DataFrame(data)"
   ]
  },
  {
   "cell_type": "code",
   "execution_count": 5,
   "metadata": {},
   "outputs": [
    {
     "data": {
      "text/plain": [
       "Name         object\n",
       "Address      object\n",
       "Access       object\n",
       "Age          object\n",
       "Max_Floor    object\n",
       "Floor        object\n",
       "Rent         object\n",
       "Layout       object\n",
       "Size         object\n",
       "dtype: object"
      ]
     },
     "execution_count": 5,
     "metadata": {},
     "output_type": "execute_result"
    }
   ],
   "source": [
    "#データ型の確認\n",
    "df.dtypes"
   ]
  },
  {
   "cell_type": "code",
   "execution_count": 6,
   "metadata": {},
   "outputs": [
    {
     "data": {
      "text/html": [
       "<div>\n",
       "<style scoped>\n",
       "    .dataframe tbody tr th:only-of-type {\n",
       "        vertical-align: middle;\n",
       "    }\n",
       "\n",
       "    .dataframe tbody tr th {\n",
       "        vertical-align: top;\n",
       "    }\n",
       "\n",
       "    .dataframe thead th {\n",
       "        text-align: right;\n",
       "    }\n",
       "</style>\n",
       "<table border=\"1\" class=\"dataframe\">\n",
       "  <thead>\n",
       "    <tr style=\"text-align: right;\">\n",
       "      <th></th>\n",
       "      <th>Name</th>\n",
       "      <th>Address</th>\n",
       "      <th>Access</th>\n",
       "      <th>Age</th>\n",
       "      <th>Max_Floor</th>\n",
       "      <th>Floor</th>\n",
       "      <th>Rent</th>\n",
       "      <th>Layout</th>\n",
       "      <th>Size</th>\n",
       "    </tr>\n",
       "  </thead>\n",
       "  <tbody>\n",
       "    <tr>\n",
       "      <th>0</th>\n",
       "      <td>ティモーネグランデ町屋</td>\n",
       "      <td>東京都荒川区東尾久６</td>\n",
       "      <td>東京メトロ千代田線/町屋駅 歩7分,京成本線/新三河島駅 歩13分,日暮里・舎人ライナー/赤...</td>\n",
       "      <td>築3年</td>\n",
       "      <td>11階建</td>\n",
       "      <td>11階</td>\n",
       "      <td>16.5万円</td>\n",
       "      <td>3DK</td>\n",
       "      <td>51.3m2</td>\n",
       "    </tr>\n",
       "    <tr>\n",
       "      <th>2</th>\n",
       "      <td>日神デュオステージ浅草三筋</td>\n",
       "      <td>東京都台東区三筋１</td>\n",
       "      <td>都営大江戸線/新御徒町駅 歩5分,つくばエクスプレス/新御徒町駅 歩5分,都営浅草線/蔵前駅...</td>\n",
       "      <td>築15年</td>\n",
       "      <td>14階建</td>\n",
       "      <td>3階</td>\n",
       "      <td>12.5万円</td>\n",
       "      <td>2K</td>\n",
       "      <td>30.27m2</td>\n",
       "    </tr>\n",
       "    <tr>\n",
       "      <th>3</th>\n",
       "      <td>ガーラ・ヒルズ練馬</td>\n",
       "      <td>東京都練馬区豊玉北４</td>\n",
       "      <td>都営大江戸線/練馬駅 歩5分,西武池袋線/練馬駅 歩6分,西武有楽町線/練馬駅 歩6分</td>\n",
       "      <td>築6年</td>\n",
       "      <td>5階建</td>\n",
       "      <td>1階</td>\n",
       "      <td>8.95万円</td>\n",
       "      <td>2K</td>\n",
       "      <td>27.11m2</td>\n",
       "    </tr>\n",
       "    <tr>\n",
       "      <th>6</th>\n",
       "      <td>ガーラ・ヒルズ練馬</td>\n",
       "      <td>東京都練馬区豊玉北４</td>\n",
       "      <td>都営大江戸線/練馬駅 歩5分,西武池袋線/練馬駅 歩6分,西武有楽町線/練馬駅 歩6分</td>\n",
       "      <td>築6年</td>\n",
       "      <td>5階建</td>\n",
       "      <td>4階</td>\n",
       "      <td>9.9万円</td>\n",
       "      <td>2K</td>\n",
       "      <td>27.11m2</td>\n",
       "    </tr>\n",
       "    <tr>\n",
       "      <th>10</th>\n",
       "      <td>アイルグランデ向島</td>\n",
       "      <td>東京都墨田区東向島１</td>\n",
       "      <td>東武伊勢崎線/曳舟駅 歩4分,京成押上線/京成曳舟駅 歩8分,東武伊勢崎線/東向島駅 歩10分</td>\n",
       "      <td>築5年</td>\n",
       "      <td>5階建</td>\n",
       "      <td>5階</td>\n",
       "      <td>13.5万円</td>\n",
       "      <td>2DK</td>\n",
       "      <td>35.65m2</td>\n",
       "    </tr>\n",
       "  </tbody>\n",
       "</table>\n",
       "</div>"
      ],
      "text/plain": [
       "             Name     Address  \\\n",
       "0     ティモーネグランデ町屋  東京都荒川区東尾久６   \n",
       "2   日神デュオステージ浅草三筋   東京都台東区三筋１   \n",
       "3       ガーラ・ヒルズ練馬  東京都練馬区豊玉北４   \n",
       "6       ガーラ・ヒルズ練馬  東京都練馬区豊玉北４   \n",
       "10      アイルグランデ向島  東京都墨田区東向島１   \n",
       "\n",
       "                                               Access   Age Max_Floor Floor  \\\n",
       "0   東京メトロ千代田線/町屋駅 歩7分,京成本線/新三河島駅 歩13分,日暮里・舎人ライナー/赤...   築3年      11階建   11階   \n",
       "2   都営大江戸線/新御徒町駅 歩5分,つくばエクスプレス/新御徒町駅 歩5分,都営浅草線/蔵前駅...  築15年      14階建    3階   \n",
       "3         都営大江戸線/練馬駅 歩5分,西武池袋線/練馬駅 歩6分,西武有楽町線/練馬駅 歩6分   築6年       5階建    1階   \n",
       "6         都営大江戸線/練馬駅 歩5分,西武池袋線/練馬駅 歩6分,西武有楽町線/練馬駅 歩6分   築6年       5階建    4階   \n",
       "10    東武伊勢崎線/曳舟駅 歩4分,京成押上線/京成曳舟駅 歩8分,東武伊勢崎線/東向島駅 歩10分   築5年       5階建    5階   \n",
       "\n",
       "      Rent Layout     Size  \n",
       "0   16.5万円    3DK   51.3m2  \n",
       "2   12.5万円     2K  30.27m2  \n",
       "3   8.95万円     2K  27.11m2  \n",
       "6    9.9万円     2K  27.11m2  \n",
       "10  13.5万円    2DK  35.65m2  "
      ]
     },
     "execution_count": 6,
     "metadata": {},
     "output_type": "execute_result"
    }
   ],
   "source": [
    "df.drop_duplicates(subset=['Address', 'Floor', 'Rent', 'Layout', 'Size'], inplace=True)\n",
    "df.head(\n",
    ")"
   ]
  },
  {
   "cell_type": "code",
   "execution_count": 7,
   "metadata": {},
   "outputs": [],
   "source": [
    "#google spread sheets 出力\n",
    "#ライブラリのインポート\n",
    "import gspread\n",
    "from oauth2client.service_account import ServiceAccountCredentials\n",
    "\n",
    "#環境変数関連\n",
    "from dotenv import load_dotenv\n",
    "load_dotenv()\n",
    "import os"
   ]
  },
  {
   "cell_type": "code",
   "execution_count": 13,
   "metadata": {},
   "outputs": [
    {
     "ename": "TypeError",
     "evalue": "expected str, bytes or os.PathLike object, not NoneType",
     "output_type": "error",
     "traceback": [
      "\u001b[0;31m---------------------------------------------------------------------------\u001b[0m",
      "\u001b[0;31mTypeError\u001b[0m                                 Traceback (most recent call last)",
      "\u001b[1;32m/Users/maedaryo/step3/suumo2.ipynb セル 8\u001b[0m line \u001b[0;36m5\n\u001b[1;32m      <a href='vscode-notebook-cell:/Users/maedaryo/step3/suumo2.ipynb#X10sZmlsZQ%3D%3D?line=2'>3</a>\u001b[0m \u001b[39m#SERVICE_ACCOUNT_FILE = '/Users/maedaryo/step3/tech0-step3-407115-94fd3b930a55.json'\u001b[39;00m\n\u001b[1;32m      <a href='vscode-notebook-cell:/Users/maedaryo/step3/suumo2.ipynb#X10sZmlsZQ%3D%3D?line=3'>4</a>\u001b[0m SERVICE_ACCOUNT_FILE \u001b[39m=\u001b[39m os\u001b[39m.\u001b[39mgetenv(\u001b[39m\"\u001b[39m\u001b[39mSERVICE_ACCOUNT_FILE\u001b[39m\u001b[39m\"\u001b[39m)\n\u001b[0;32m----> <a href='vscode-notebook-cell:/Users/maedaryo/step3/suumo2.ipynb#X10sZmlsZQ%3D%3D?line=4'>5</a>\u001b[0m credentials \u001b[39m=\u001b[39m ServiceAccountCredentials\u001b[39m.\u001b[39mfrom_json_keyfile_name(SERVICE_ACCOUNT_FILE, SCOPES)\n",
      "File \u001b[0;32m~/anaconda3/lib/python3.11/site-packages/oauth2client/service_account.py:219\u001b[0m, in \u001b[0;36mServiceAccountCredentials.from_json_keyfile_name\u001b[0;34m(cls, filename, scopes, token_uri, revoke_uri)\u001b[0m\n\u001b[1;32m    193\u001b[0m \u001b[39m@classmethod\u001b[39m\n\u001b[1;32m    194\u001b[0m \u001b[39mdef\u001b[39;00m \u001b[39mfrom_json_keyfile_name\u001b[39m(\u001b[39mcls\u001b[39m, filename, scopes\u001b[39m=\u001b[39m\u001b[39m'\u001b[39m\u001b[39m'\u001b[39m,\n\u001b[1;32m    195\u001b[0m                            token_uri\u001b[39m=\u001b[39m\u001b[39mNone\u001b[39;00m, revoke_uri\u001b[39m=\u001b[39m\u001b[39mNone\u001b[39;00m):\n\u001b[1;32m    197\u001b[0m \u001b[39m    \u001b[39m\u001b[39m\"\"\"Factory constructor from JSON keyfile by name.\u001b[39;00m\n\u001b[1;32m    198\u001b[0m \n\u001b[1;32m    199\u001b[0m \u001b[39m    Args:\u001b[39;00m\n\u001b[0;32m   (...)\u001b[0m\n\u001b[1;32m    217\u001b[0m \u001b[39m            the keyfile.\u001b[39;00m\n\u001b[1;32m    218\u001b[0m \u001b[39m    \"\"\"\u001b[39;00m\n\u001b[0;32m--> 219\u001b[0m     \u001b[39mwith\u001b[39;00m \u001b[39mopen\u001b[39m(filename, \u001b[39m'\u001b[39m\u001b[39mr\u001b[39m\u001b[39m'\u001b[39m) \u001b[39mas\u001b[39;00m file_obj:\n\u001b[1;32m    220\u001b[0m         client_credentials \u001b[39m=\u001b[39m json\u001b[39m.\u001b[39mload(file_obj)\n\u001b[1;32m    221\u001b[0m     \u001b[39mreturn\u001b[39;00m \u001b[39mcls\u001b[39m\u001b[39m.\u001b[39m_from_parsed_json_keyfile(client_credentials, scopes,\n\u001b[1;32m    222\u001b[0m                                          token_uri\u001b[39m=\u001b[39mtoken_uri,\n\u001b[1;32m    223\u001b[0m                                          revoke_uri\u001b[39m=\u001b[39mrevoke_uri)\n",
      "\u001b[0;31mTypeError\u001b[0m: expected str, bytes or os.PathLike object, not NoneType"
     ]
    }
   ],
   "source": [
    "#スコープとjsonファイルを使って認証情報を取得\n",
    "SCOPES = ['https://www.googleapis.com/auth/spreadsheets', 'https://www.googleapis.com/auth/drive']\n",
    "#SERVICE_ACCOUNT_FILE = '/Users/maedaryo/step3/tech0-step3-407115-94fd3b930a55.json'\n",
    "SERVICE_ACCOUNT_FILE = os.getenv(\"SERVICE_ACCOUNT_FILE\")\n",
    "credentials = ServiceAccountCredentials.from_json_keyfile_name(SERVICE_ACCOUNT_FILE, SCOPES)"
   ]
  },
  {
   "cell_type": "code",
   "execution_count": 110,
   "metadata": {},
   "outputs": [],
   "source": [
    "#認証情報をauthorize関数に渡してスプレッドシートの操作権を取得\n",
    "gs = gspread.authorize(credentials)\n",
    "\n",
    "#シート情報を取得して変数に代入\n",
    "#SPREADSHEET_KEY = '1-9_e88o6GUDVg-2FO8o-d0fS8UKRji3MAQsANC3zxIw'\n",
    "SPREADSHEET_KEY = os.getenv(\"SPREADSHEET_KEY\")\n",
    "workbook = gs.open_by_key(SPREADSHEET_KEY)\n",
    "worksheet = workbook.worksheet(\"DB\")"
   ]
  },
  {
   "cell_type": "code",
   "execution_count": 111,
   "metadata": {},
   "outputs": [
    {
     "name": "stderr",
     "output_type": "stream",
     "text": [
      "/var/folders/kg/8x8shztx3cxdm81q2gqnhjf40000gn/T/ipykernel_51495/2538457237.py:5: DeprecationWarning: [Deprecated][in version 6.0.0]: Method signature's arguments 'range_name' and 'values' will change their order. We recommend using named arguments for minimal impact. In addition, the argument 'values' will be mandatory of type: 'List[List]'. (ex) Worksheet.update(values = [[]], range_name=) \n",
      "  worksheet.update(\"A1\", values)\n"
     ]
    },
    {
     "data": {
      "text/plain": [
       "{'spreadsheetId': '1-9_e88o6GUDVg-2FO8o-d0fS8UKRji3MAQsANC3zxIw',\n",
       " 'updatedRange': 'DB!A1:I2261',\n",
       " 'updatedRows': 2261,\n",
       " 'updatedColumns': 9,\n",
       " 'updatedCells': 20349}"
      ]
     },
     "execution_count": 111,
     "metadata": {},
     "output_type": "execute_result"
    }
   ],
   "source": [
    "#特定の列（'Address', 'Floor', 'Rent', 'Layout', 'Size'）に基づいて重複する行を削除\n",
    "df.drop_duplicates(subset=['Address', 'Floor', 'Rent', 'Layout', 'Size'], inplace=True)\n",
    "\n",
    "values = [df.columns.values.tolist()] + df.values.tolist()\n",
    "\n",
    "worksheet.update(\"A1\", values)"
   ]
  }
 ],
 "metadata": {
  "kernelspec": {
   "display_name": "Python 3",
   "language": "python",
   "name": "python3"
  },
  "language_info": {
   "codemirror_mode": {
    "name": "ipython",
    "version": 3
   },
   "file_extension": ".py",
   "mimetype": "text/x-python",
   "name": "python",
   "nbconvert_exporter": "python",
   "pygments_lexer": "ipython3",
   "version": "3.11.4"
  }
 },
 "nbformat": 4,
 "nbformat_minor": 2
}
