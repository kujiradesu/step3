{
 "cells": [
  {
   "cell_type": "markdown",
   "metadata": {},
   "source": [
    "Suumoからデータ抽出"
   ]
  },
  {
   "cell_type": "code",
   "execution_count": null,
   "metadata": {},
   "outputs": [],
   "source": [
    "import requests\n",
    "from bs4 import BeautifulSoup\n",
    "import time\n",
    "import pandas as pd\n",
    "\n",
    "# SuumoのURLのベース部分\n",
    "base_url = \"https://suumo.jp/jj/chintai/ichiran/FR301FC001/?ar=030&bs=040&ta=13&sc=13101&sc=13102&sc=13103&sc=13104&sc=13105&sc=13113&sc=13106&sc=13107&sc=13108&sc=13118&sc=13121&sc=13122&sc=13123&sc=13109&sc=13110&sc=13111&sc=13112&sc=13114&sc=13115&sc=13120&sc=13116&sc=13117&sc=13119&cb=0.0&ct=20.0&et=9999999&md=05&cn=9999999&mb=0&mt=9999999&shkr1=03&shkr2=03&shkr3=03&shkr4=03&fw2=&srch_navi=1\"\n",
    "\n",
    "\n",
    "# 物件情報を格納するリスト\n",
    "properties = []\n",
    "\n",
    "# セッションを開始\n",
    "session = requests.Session()\n",
    "\n",
    "# 最初のページからスタート\n",
    "page = 1\n",
    "\n",
    "while True:\n",
    "    # パラメータにページ数を追加\n",
    "    params = {'page': page}\n",
    "\n",
    "    # リクエストを送信\n",
    "    response = session.get(base_url, params=params)\n",
    "    response.encoding = response.apparent_encoding\n",
    "\n",
    "    # HTMLコンテンツを解析\n",
    "    soup = BeautifulSoup(response.text, 'html.parser')\n",
    "\n",
    "    # 物件情報の抽出\n",
    "    listings = soup.find_all('div', class_='cassetteitem')\n",
    "    if not listings:\n",
    "        break  # リストが空なら終了\n",
    "\n",
    "    for listing in listings:\n",
    "        property_name = listing.find('div', class_='cassetteitem_content-title').text.strip()\n",
    "        address = listing.find('li', class_='cassetteitem_detail-col1').text.strip()\n",
    "        layout = listing.find('span', class_='cassetteitem_madori').text.strip()\n",
    "        rent = listing.find('span', class_='cassetteitem_other-emphasis').text.strip()\n",
    "        floor = listing.find('li', class_='cassetteitem_detail-col3').text.strip()\n",
    "        access = listing.find('div', class_='cassetteitem_detail-text').text.strip()\n",
    "\n",
    "        properties.append({\n",
    "            '物件名': property_name,\n",
    "            '住所': address,\n",
    "            '間取り': layout,\n",
    "            '家賃': rent,\n",
    "            '階数': floor,\n",
    "            '最寄りまでの時間': access\n",
    "        })\n",
    "\n",
    "    # 次のページへ\n",
    "    page += 1\n",
    "\n",
    "        # サーバーへの負荷を考慮して少し待機\n",
    "    time.sleep(1)\n",
    "\n",
    "\n",
    "# 最終的な物件情報のリストを表示\n",
    "for property in properties:\n",
    "    print(property)\n",
    "\n",
    "# 'properties'リストをデータフレームに変換\n",
    "properties_df = pd.DataFrame(properties)\n",
    "\n",
    "# データフレームの表示\n",
    "print(properties_df)\n"
   ]
  },
  {
   "cell_type": "code",
   "execution_count": 64,
   "metadata": {},
   "outputs": [
    {
     "name": "stdout",
     "output_type": "stream",
     "text": [
      "抽出された物件の件数: 5346\n"
     ]
    }
   ],
   "source": [
    "properties# スクレイピングしたデータの件数を表示\n",
    "data_count = len(properties)\n",
    "print(f\"抽出された物件の件数: {data_count}\")\n"
   ]
  },
  {
   "cell_type": "markdown",
   "metadata": {},
   "source": [
    "スプレッドシートで出力。"
   ]
  },
  {
   "cell_type": "code",
   "execution_count": null,
   "metadata": {},
   "outputs": [],
   "source": [
    "pip install gspread oauth2client"
   ]
  },
  {
   "cell_type": "code",
   "execution_count": null,
   "metadata": {},
   "outputs": [],
   "source": [
    "import gspread\n",
    "from oauth2client.service_account import ServiceAccountCredentials\n",
    "import pandas as pd\n",
    "\n",
    "# APIキーのパスとスプレッドシートのキー\n",
    "api_key_path = ''\n",
    "spreadsheet_key = ''\n",
    "\n",
    "# スコープの設定\n",
    "scope = ['https://www.googleapis.com/auth/spreadsheets',\n",
    "         'https://www.googleapis.com/auth/drive']\n",
    "\n",
    "# 認証\n",
    "credentials = ServiceAccountCredentials.from_json_keyfile_name(api_key_path, scope)\n",
    "client = gspread.authorize(credentials)\n",
    "\n",
    "# スプレッドシートを開く\n",
    "spreadsheet = client.open_by_key(spreadsheet_key)\n",
    "worksheet = spreadsheet.get_worksheet(0)  # 最初のシートを選択\n",
    "\n",
    "# データフレームをスプレッドシートに書き込む\n",
    "worksheet.update([properties_df.columns.values.tolist()] + properties_df.values.tolist())\n"
   ]
  }
 ],
 "metadata": {
  "kernelspec": {
   "display_name": "Python 3",
   "language": "python",
   "name": "python3"
  },
  "language_info": {
   "codemirror_mode": {
    "name": "ipython",
    "version": 3
   },
   "file_extension": ".py",
   "mimetype": "text/x-python",
   "name": "python",
   "nbconvert_exporter": "python",
   "pygments_lexer": "ipython3",
   "version": "3.9.6"
  }
 },
 "nbformat": 4,
 "nbformat_minor": 2
}
